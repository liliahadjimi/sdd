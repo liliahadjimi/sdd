{
 "cells": [
  {
   "cell_type": "code",
   "execution_count": 1,
   "id": "bfd96d00",
   "metadata": {},
   "outputs": [
    {
     "name": "stdout",
     "output_type": "stream",
     "text": [
      "36\n"
     ]
    }
   ],
   "source": [
    "#qst1\n",
    "list=(2,3,6)\n",
    "m=1\n",
    "for i in list:\n",
    "    m=m*i\n",
    "print(m)"
   ]
  },
  {
   "cell_type": "code",
   "execution_count": 6,
   "id": "fe42ea51",
   "metadata": {},
   "outputs": [
    {
     "name": "stdout",
     "output_type": "stream",
     "text": [
      "sorted:\n",
      "[(2, 1), (1, 2), (2, 3), (2, 5)]\n",
      "[(1, 2), (2, 1), (2, 3), (2, 5)]\n"
     ]
    }
   ],
   "source": [
    "#qst2\n",
    "#1ere methode\n",
    "def last(n):\n",
    "    return n[-1]\n",
    "\n",
    "def sort(tuples):\n",
    "    return sorted(tuples, key=last)\n",
    "\n",
    "a=[(2,5),(1,2),(2,3),(2,1)]\n",
    "print(\"sorted:\")\n",
    "print(sort(a))\n",
    "#2emme methode\n",
    "list=[(2,5),(1,2),(2,3),(2,1)]\n",
    "list.sort()\n",
    "print(list)"
   ]
  },
  {
   "cell_type": "code",
   "execution_count": 8,
   "id": "5f7383dc",
   "metadata": {},
   "outputs": [
    {
     "ename": "AttributeError",
     "evalue": "'dict' object has no attribute 'key'",
     "output_type": "error",
     "traceback": [
      "\u001b[1;31m---------------------------------------------------------------------------\u001b[0m",
      "\u001b[1;31mAttributeError\u001b[0m                            Traceback (most recent call last)",
      "Input \u001b[1;32mIn [8]\u001b[0m, in \u001b[0;36m<cell line: 5>\u001b[1;34m()\u001b[0m\n\u001b[0;32m      3\u001b[0m d2\u001b[38;5;241m=\u001b[39m{\u001b[38;5;124m'\u001b[39m\u001b[38;5;124ma\u001b[39m\u001b[38;5;124m'\u001b[39m:\u001b[38;5;241m300\u001b[39m,\u001b[38;5;124m'\u001b[39m\u001b[38;5;124mb\u001b[39m\u001b[38;5;124m'\u001b[39m:\u001b[38;5;241m200\u001b[39m,\u001b[38;5;124m'\u001b[39m\u001b[38;5;124mc\u001b[39m\u001b[38;5;124m'\u001b[39m:\u001b[38;5;241m400\u001b[39m}\n\u001b[0;32m      4\u001b[0m d3\u001b[38;5;241m=\u001b[39m{}\n\u001b[1;32m----> 5\u001b[0m \u001b[38;5;28;01mfor\u001b[39;00m key \u001b[38;5;129;01min\u001b[39;00m \u001b[43md1\u001b[49m\u001b[38;5;241;43m.\u001b[39;49m\u001b[43mkey\u001b[49m():\n\u001b[0;32m      6\u001b[0m     \u001b[38;5;28;01mif\u001b[39;00m key \u001b[38;5;129;01min\u001b[39;00m d2\u001b[38;5;241m.\u001b[39mkey():\n\u001b[0;32m      7\u001b[0m             d3[key]\u001b[38;5;241m=\u001b[39md1[key]\u001b[38;5;241m+\u001b[39md2[key]\n",
      "\u001b[1;31mAttributeError\u001b[0m: 'dict' object has no attribute 'key'"
     ]
    }
   ],
   "source": [
    "#qst3\n",
    "d1={'a':100,'b':200,'c':300}\n",
    "d2={'a':300,'b':200,'c':400}\n",
    "d3={}\n",
    "for key in d1.key():\n",
    "    if key in d2.key():\n",
    "            d3[key]=d1[key]+d2[key]\n",
    "    elif key not in d2.key():\n",
    "            d3[key]=d1[key]\n",
    "for key2 in d2.key():\n",
    "       if key2 not in d1.keys():\n",
    "            d3[key2]=d2[key2]\n",
    "print(d3)"
   ]
  },
  {
   "cell_type": "code",
   "execution_count": 9,
   "id": "8ce6dabd",
   "metadata": {},
   "outputs": [
    {
     "name": "stdout",
     "output_type": "stream",
     "text": [
      "entrer la valeur de n:6\n",
      "{1: 1, 2: 4, 3: 9, 4: 16, 5: 25, 6: 36}\n"
     ]
    }
   ],
   "source": [
    "#qst4\n",
    "n=input(\"entrer la valeur de n:\")\n",
    "n=int(n)\n",
    "my_dictionary={}\n",
    "p1=1\n",
    "i=1\n",
    "while i!=n+1:\n",
    "    p=i**2\n",
    "    my_dictionary[i]=p\n",
    "    i=i+1\n",
    "print(my_dictionary)"
   ]
  },
  {
   "cell_type": "code",
   "execution_count": null,
   "id": "eb5108b3",
   "metadata": {},
   "outputs": [],
   "source": [
    "#qst5\n",
    "list"
   ]
  }
 ],
 "metadata": {
  "kernelspec": {
   "display_name": "Python 3 (ipykernel)",
   "language": "python",
   "name": "python3"
  },
  "language_info": {
   "codemirror_mode": {
    "name": "ipython",
    "version": 3
   },
   "file_extension": ".py",
   "mimetype": "text/x-python",
   "name": "python",
   "nbconvert_exporter": "python",
   "pygments_lexer": "ipython3",
   "version": "3.9.12"
  }
 },
 "nbformat": 4,
 "nbformat_minor": 5
}
